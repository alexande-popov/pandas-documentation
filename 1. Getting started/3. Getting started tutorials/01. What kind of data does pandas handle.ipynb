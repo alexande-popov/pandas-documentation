{
 "cells": [
  {
   "cell_type": "markdown",
   "id": "50967942",
   "metadata": {},
   "source": [
    "# Какие данные обрабатывает pandas?"
   ]
  },
  {
   "cell_type": "markdown",
   "id": "de676f20",
   "metadata": {},
   "source": [
    "⸮ Я хочу начать использовать pandas"
   ]
  },
  {
   "cell_type": "code",
   "execution_count": 1,
   "id": "108aab02",
   "metadata": {},
   "outputs": [],
   "source": [
    "import pandas as pd"
   ]
  },
  {
   "cell_type": "markdown",
   "id": "51881195",
   "metadata": {},
   "source": [
    "Сообщество согласовало псевдоним для pandas — `pd`, поэтому загрузка pandas как `pd` считается стандартной практикой для всей документации pandas."
   ]
  },
  {
   "cell_type": "markdown",
   "id": "dd2fb84f",
   "metadata": {},
   "source": [
    "## Представление таблицы данных pandas\n",
    "\n",
    "![01_table_dataframe](https://pandas.pydata.org/docs/_images/01_table_dataframe.svg)\n",
    "\n",
    "⸮ Я хочу сохранить данные пассажиров Титаника. Для ряда пассажиров мне известны имена (символы), возраст (целые числа) и пол (мужской/женский) данные."
   ]
  },
  {
   "cell_type": "code",
   "execution_count": 2,
   "id": "5f1c98b4",
   "metadata": {},
   "outputs": [
    {
     "data": {
      "text/html": [
       "<div>\n",
       "<style scoped>\n",
       "    .dataframe tbody tr th:only-of-type {\n",
       "        vertical-align: middle;\n",
       "    }\n",
       "\n",
       "    .dataframe tbody tr th {\n",
       "        vertical-align: top;\n",
       "    }\n",
       "\n",
       "    .dataframe thead th {\n",
       "        text-align: right;\n",
       "    }\n",
       "</style>\n",
       "<table border=\"1\" class=\"dataframe\">\n",
       "  <thead>\n",
       "    <tr style=\"text-align: right;\">\n",
       "      <th></th>\n",
       "      <th>Name</th>\n",
       "      <th>Age</th>\n",
       "      <th>Sex</th>\n",
       "    </tr>\n",
       "  </thead>\n",
       "  <tbody>\n",
       "    <tr>\n",
       "      <th>0</th>\n",
       "      <td>Braund, Mr. Owen Harris</td>\n",
       "      <td>22</td>\n",
       "      <td>male</td>\n",
       "    </tr>\n",
       "    <tr>\n",
       "      <th>1</th>\n",
       "      <td>Allen, Mr. William Henry</td>\n",
       "      <td>35</td>\n",
       "      <td>male</td>\n",
       "    </tr>\n",
       "    <tr>\n",
       "      <th>2</th>\n",
       "      <td>Bonnell, Miss. Elizabeth</td>\n",
       "      <td>58</td>\n",
       "      <td>female</td>\n",
       "    </tr>\n",
       "  </tbody>\n",
       "</table>\n",
       "</div>"
      ],
      "text/plain": [
       "                       Name  Age     Sex\n",
       "0   Braund, Mr. Owen Harris   22    male\n",
       "1  Allen, Mr. William Henry   35    male\n",
       "2  Bonnell, Miss. Elizabeth   58  female"
      ]
     },
     "execution_count": 2,
     "metadata": {},
     "output_type": "execute_result"
    }
   ],
   "source": [
    "df = pd.DataFrame(\n",
    "    {\n",
    "        \"Name\": [\n",
    "            \"Braund, Mr. Owen Harris\",\n",
    "            \"Allen, Mr. William Henry\",\n",
    "            \"Bonnell, Miss. Elizabeth\",\n",
    "        ],\n",
    "        \"Age\": [22, 35, 58],\n",
    "        \"Sex\": [\"male\", \"male\", \"female\"],\n",
    "    }\n",
    ")\n",
    "\n",
    "\n",
    "df"
   ]
  },
  {
   "cell_type": "markdown",
   "id": "d1744785",
   "metadata": {},
   "source": [
    "Чтобы вручную сохранить данные в таблице, создайте `DataFrame`. При использовании словаря списков Python ключи словаря будут использоваться как заголовки столбцов, а значения в каждом списке — как столбцы `DataFrame`."
   ]
  },
  {
   "cell_type": "markdown",
   "id": "0a0d642d",
   "metadata": {},
   "source": [
    "`DataFrame` — это двумерная структура данных, которая может хранить данные разных типов (включая символы, целые числа, значения с плавающей запятой, категориальные данные и т. д.) в столбцах. Это похоже на электронную таблицу, таблицу SQL или `data.frame` в R.\n",
    "\n",
    "* В таблице 3 столбца, каждый из которых имеет метку столбца. Ярлыки столбцов — соответственно Имя, Возраст и Пол.\n",
    "* Столбец Имя состоит из текстовых данных, где каждое значение представляет собой строку, столбец Возраст представляет собой числа, а столбец Пол представляет собой текстовые данные."
   ]
  },
  {
   "cell_type": "markdown",
   "id": "5d700622",
   "metadata": {},
   "source": [
    "## Каждый столбец в DataFrame — это Series\n",
    "\n",
    "![01_table_series](https://pandas.pydata.org/docs/_images/01_table_series.svg)"
   ]
  },
  {
   "cell_type": "markdown",
   "id": "0b721aa7",
   "metadata": {},
   "source": [
    "⸮ Меня просто интересует работа с данными в столбце `Age`"
   ]
  },
  {
   "cell_type": "code",
   "execution_count": 3,
   "id": "8ff02322",
   "metadata": {},
   "outputs": [
    {
     "data": {
      "text/plain": [
       "0    22\n",
       "1    35\n",
       "2    58\n",
       "Name: Age, dtype: int64"
      ]
     },
     "execution_count": 3,
     "metadata": {},
     "output_type": "execute_result"
    }
   ],
   "source": [
    "df[\"Age\"]"
   ]
  },
  {
   "cell_type": "markdown",
   "id": "3f869a1d",
   "metadata": {},
   "source": [
    "При выборе одного столбца `DataFrame` результатом является `Series`. Чтобы выбрать столбец, используйте метку столбца в квадратных скобках `[]`."
   ]
  },
  {
   "cell_type": "markdown",
   "id": "640fd037",
   "metadata": {},
   "source": [
    "*Note:* Если вы знакомы со словарями Python, выбор одного столбца очень похож на выбор значений словаря на основе ключа."
   ]
  },
  {
   "cell_type": "markdown",
   "id": "21a3ea4f",
   "metadata": {},
   "source": [
    "Вы также можете создать `Series` с нуля."
   ]
  },
  {
   "cell_type": "code",
   "execution_count": 4,
   "id": "024487ee",
   "metadata": {},
   "outputs": [
    {
     "data": {
      "text/plain": [
       "0    22\n",
       "1    35\n",
       "2    58\n",
       "Name: Age, dtype: int64"
      ]
     },
     "execution_count": 4,
     "metadata": {},
     "output_type": "execute_result"
    }
   ],
   "source": [
    "ages = pd.Series([22, 35, 58], name=\"Age\")\n",
    "ages"
   ]
  },
  {
   "cell_type": "markdown",
   "id": "8c41cdfa",
   "metadata": {},
   "source": [
    "`Series` не имеет меток столбцов, так как это всего лишь один столбец `DataFrame`. `Series` имеет метки строк."
   ]
  },
  {
   "cell_type": "markdown",
   "id": "ac32f455",
   "metadata": {},
   "source": [
    "## Работаем с DataFrame или Series"
   ]
  },
  {
   "cell_type": "markdown",
   "id": "5cb55e50",
   "metadata": {},
   "source": [
    "⸮ Я хочу знать максимальный возраст пассажиров."
   ]
  },
  {
   "cell_type": "markdown",
   "id": "2fd12141",
   "metadata": {},
   "source": [
    "Мы можем сделать это в `DataFrame`, выбрав столбец `Age` и применив `max()`:"
   ]
  },
  {
   "cell_type": "code",
   "execution_count": 5,
   "id": "50326831",
   "metadata": {},
   "outputs": [
    {
     "data": {
      "text/plain": [
       "58"
      ]
     },
     "execution_count": 5,
     "metadata": {},
     "output_type": "execute_result"
    }
   ],
   "source": [
    "df['Age'].max()"
   ]
  },
  {
   "cell_type": "markdown",
   "id": "32ae545e",
   "metadata": {},
   "source": [
    "Или `Series`:"
   ]
  },
  {
   "cell_type": "code",
   "execution_count": 6,
   "id": "40dfcb92",
   "metadata": {},
   "outputs": [
    {
     "data": {
      "text/plain": [
       "58"
      ]
     },
     "execution_count": 6,
     "metadata": {},
     "output_type": "execute_result"
    }
   ],
   "source": [
    "ages.max()"
   ]
  },
  {
   "cell_type": "markdown",
   "id": "e47b5977",
   "metadata": {},
   "source": [
    "⸮ Меня интересуют некоторые основные статистические данные числовых данных моей таблицы данных"
   ]
  },
  {
   "cell_type": "code",
   "execution_count": 7,
   "id": "6670a81d",
   "metadata": {},
   "outputs": [
    {
     "data": {
      "text/html": [
       "<div>\n",
       "<style scoped>\n",
       "    .dataframe tbody tr th:only-of-type {\n",
       "        vertical-align: middle;\n",
       "    }\n",
       "\n",
       "    .dataframe tbody tr th {\n",
       "        vertical-align: top;\n",
       "    }\n",
       "\n",
       "    .dataframe thead th {\n",
       "        text-align: right;\n",
       "    }\n",
       "</style>\n",
       "<table border=\"1\" class=\"dataframe\">\n",
       "  <thead>\n",
       "    <tr style=\"text-align: right;\">\n",
       "      <th></th>\n",
       "      <th>Age</th>\n",
       "    </tr>\n",
       "  </thead>\n",
       "  <tbody>\n",
       "    <tr>\n",
       "      <th>count</th>\n",
       "      <td>3.000000</td>\n",
       "    </tr>\n",
       "    <tr>\n",
       "      <th>mean</th>\n",
       "      <td>38.333333</td>\n",
       "    </tr>\n",
       "    <tr>\n",
       "      <th>std</th>\n",
       "      <td>18.230012</td>\n",
       "    </tr>\n",
       "    <tr>\n",
       "      <th>min</th>\n",
       "      <td>22.000000</td>\n",
       "    </tr>\n",
       "    <tr>\n",
       "      <th>25%</th>\n",
       "      <td>28.500000</td>\n",
       "    </tr>\n",
       "    <tr>\n",
       "      <th>50%</th>\n",
       "      <td>35.000000</td>\n",
       "    </tr>\n",
       "    <tr>\n",
       "      <th>75%</th>\n",
       "      <td>46.500000</td>\n",
       "    </tr>\n",
       "    <tr>\n",
       "      <th>max</th>\n",
       "      <td>58.000000</td>\n",
       "    </tr>\n",
       "  </tbody>\n",
       "</table>\n",
       "</div>"
      ],
      "text/plain": [
       "             Age\n",
       "count   3.000000\n",
       "mean   38.333333\n",
       "std    18.230012\n",
       "min    22.000000\n",
       "25%    28.500000\n",
       "50%    35.000000\n",
       "75%    46.500000\n",
       "max    58.000000"
      ]
     },
     "execution_count": 7,
     "metadata": {},
     "output_type": "execute_result"
    }
   ],
   "source": [
    "df.describe()"
   ]
  },
  {
   "cell_type": "markdown",
   "id": "a45e3cc4",
   "metadata": {},
   "source": [
    "Метод `describe()` обеспечивает краткий обзор числовых данных в `DataFrame`. Поскольку столбцы `Name` и `Sex` представляют собой текстовые данные, они по умолчанию не учитываются методом `describe()`.\n",
    "\n",
    "Многие операции pandas возвращают `DataFrame` или `Series`. Метод `describe()` является примером операции pandas, возвращающей `Series` или `DataFrame`."
   ]
  },
  {
   "cell_type": "code",
   "execution_count": null,
   "id": "4309b41d",
   "metadata": {},
   "outputs": [],
   "source": []
  }
 ],
 "metadata": {
  "kernelspec": {
   "display_name": "Python 3",
   "language": "python",
   "name": "python3"
  },
  "language_info": {
   "codemirror_mode": {
    "name": "ipython",
    "version": 3
   },
   "file_extension": ".py",
   "mimetype": "text/x-python",
   "name": "python",
   "nbconvert_exporter": "python",
   "pygments_lexer": "ipython3",
   "version": "3.8.11"
  }
 },
 "nbformat": 4,
 "nbformat_minor": 5
}
